{
  "nbformat": 4,
  "nbformat_minor": 0,
  "metadata": {
    "colab": {
      "provenance": [],
      "collapsed_sections": [
        "oXWzhk_1E3aa"
      ],
      "authorship_tag": "ABX9TyP1ISL8Q9GQtw2maKqCN9Zk",
      "include_colab_link": true
    },
    "kernelspec": {
      "name": "python3",
      "display_name": "Python 3"
    },
    "language_info": {
      "name": "python"
    }
  },
  "cells": [
    {
      "cell_type": "markdown",
      "metadata": {
        "id": "view-in-github",
        "colab_type": "text"
      },
      "source": [
        "<a href=\"https://colab.research.google.com/github/AryanSai/Deep-Learning/blob/main/MyDeepLearning.ipynb\" target=\"_parent\"><img src=\"https://colab.research.google.com/assets/colab-badge.svg\" alt=\"Open In Colab\"/></a>"
      ]
    },
    {
      "cell_type": "markdown",
      "source": [
        "## **Tensors**"
      ],
      "metadata": {
        "id": "oXWzhk_1E3aa"
      }
    },
    {
      "cell_type": "code",
      "execution_count": null,
      "metadata": {
        "id": "xS9mvNRG7KKW"
      },
      "outputs": [],
      "source": [
        "import torch\n",
        "import numpy as np"
      ]
    },
    {
      "cell_type": "code",
      "source": [
        "data=[[1,2,4],[3,4,6]]\n",
        "x_data=torch.tensor(data)\n",
        "print(x_data)\n",
        "print(x_data.size())"
      ],
      "metadata": {
        "colab": {
          "base_uri": "https://localhost:8080/"
        },
        "id": "3cbeED717_O5",
        "outputId": "eba14da2-98ca-4606-9592-1bd95c30fb70"
      },
      "execution_count": null,
      "outputs": [
        {
          "output_type": "stream",
          "name": "stdout",
          "text": [
            "tensor([[1, 2, 4],\n",
            "        [3, 4, 6]])\n",
            "torch.Size([2, 3])\n"
          ]
        }
      ]
    },
    {
      "cell_type": "code",
      "source": [
        "#retains the properties of shape and data type of the argument\n",
        "x_ones = torch.ones_like(x_data) # retains the properties of x_data\n",
        "print(f\"Ones Tensor: \\n {x_ones} \\n\")\n",
        "\n",
        "x_rand = torch.rand_like(x_data, dtype=torch.float) # overrides the datatype of x_data\n",
        "print(f\"Random Tensor: \\n {x_rand} \\n\")"
      ],
      "metadata": {
        "colab": {
          "base_uri": "https://localhost:8080/"
        },
        "id": "l7FYpQ9P88bo",
        "outputId": "95b12df2-47d0-421d-ce77-6fbe2b9b8615"
      },
      "execution_count": null,
      "outputs": [
        {
          "output_type": "stream",
          "name": "stdout",
          "text": [
            "Ones Tensor: \n",
            " tensor([[1, 1, 1],\n",
            "        [1, 1, 1]]) \n",
            "\n",
            "Random Tensor: \n",
            " tensor([[0.1885, 0.2648, 0.1205],\n",
            "        [0.5067, 0.6508, 0.2023]]) \n",
            "\n"
          ]
        }
      ]
    },
    {
      "cell_type": "code",
      "source": [
        "shape = (2,4,) #dhape gives the dimensions of the tensor\n",
        "rand_tensor = torch.rand(shape)\n",
        "ones_tensor = torch.ones(shape)\n",
        "zeros_tensor = torch.zeros(shape)\n",
        "\n",
        "print(f\"Random Tensor: \\n {rand_tensor} \\n\")\n",
        "print(f\"Ones Tensor: \\n {ones_tensor} \\n\")\n",
        "print(f\"Zeros Tensor: \\n {zeros_tensor}\")\n",
        "\n",
        "print(rand_tensor.shape) #gives the shape of the tensor\n",
        "print(rand_tensor.dtype)\n",
        "print(rand_tensor.device)"
      ],
      "metadata": {
        "colab": {
          "base_uri": "https://localhost:8080/"
        },
        "id": "AhTClJqi9q66",
        "outputId": "3859696f-5d3e-42cf-f2db-edbc3b9e1e01"
      },
      "execution_count": null,
      "outputs": [
        {
          "output_type": "stream",
          "name": "stdout",
          "text": [
            "Random Tensor: \n",
            " tensor([[0.3491, 0.2296, 0.5607, 0.5632],\n",
            "        [0.5255, 0.9873, 0.9151, 0.8068]]) \n",
            "\n",
            "Ones Tensor: \n",
            " tensor([[1., 1., 1., 1.],\n",
            "        [1., 1., 1., 1.]]) \n",
            "\n",
            "Zeros Tensor: \n",
            " tensor([[0., 0., 0., 0.],\n",
            "        [0., 0., 0., 0.]])\n",
            "torch.Size([2, 4])\n",
            "torch.float32\n",
            "cpu\n"
          ]
        }
      ]
    },
    {
      "cell_type": "code",
      "source": [
        "print(rand_tensor[0]) #indexing the tensor\n",
        "print(rand_tensor)\n",
        "print(rand_tensor[:,1]) #column 1\n",
        "print(rand_tensor[:,-1]) #last column"
      ],
      "metadata": {
        "colab": {
          "base_uri": "https://localhost:8080/"
        },
        "id": "cVvgS3e-_tXX",
        "outputId": "560aad42-2569-47fb-b6ae-2350b1d66b68"
      },
      "execution_count": null,
      "outputs": [
        {
          "output_type": "stream",
          "name": "stdout",
          "text": [
            "tensor([0.3491, 0.2296, 0.5607, 0.5632])\n",
            "tensor([[0.3491, 0.2296, 0.5607, 0.5632],\n",
            "        [0.5255, 0.9873, 0.9151, 0.8068]])\n",
            "tensor([0.2296, 0.9873])\n",
            "tensor([0.5632, 0.8068])\n"
          ]
        }
      ]
    },
    {
      "cell_type": "code",
      "source": [
        "#joining the tensors along the cols dimension\n",
        "t1 = torch.cat([rand_tensor, rand_tensor, rand_tensor], dim=0)\n",
        "print(t1)"
      ],
      "metadata": {
        "colab": {
          "base_uri": "https://localhost:8080/"
        },
        "id": "xIdhAaBEA0hb",
        "outputId": "54ba22c0-0fd6-4258-8132-9b5519796db2"
      },
      "execution_count": null,
      "outputs": [
        {
          "output_type": "stream",
          "name": "stdout",
          "text": [
            "tensor([[0.3491, 0.2296, 0.5607, 0.5632],\n",
            "        [0.5255, 0.9873, 0.9151, 0.8068],\n",
            "        [0.3491, 0.2296, 0.5607, 0.5632],\n",
            "        [0.5255, 0.9873, 0.9151, 0.8068],\n",
            "        [0.3491, 0.2296, 0.5607, 0.5632],\n",
            "        [0.5255, 0.9873, 0.9151, 0.8068]])\n"
          ]
        }
      ]
    },
    {
      "cell_type": "code",
      "source": [
        "#joining the tensors along the rows dimension\n",
        "t1 = torch.cat([rand_tensor, rand_tensor, rand_tensor], dim=1)\n",
        "print(t1)"
      ],
      "metadata": {
        "colab": {
          "base_uri": "https://localhost:8080/"
        },
        "id": "VowKTtoHBJeb",
        "outputId": "daf963fd-164a-42f6-9861-6df3889a9693"
      },
      "execution_count": null,
      "outputs": [
        {
          "output_type": "stream",
          "name": "stdout",
          "text": [
            "tensor([[0.3491, 0.2296, 0.5607, 0.5632, 0.3491, 0.2296, 0.5607, 0.5632, 0.3491,\n",
            "         0.2296, 0.5607, 0.5632],\n",
            "        [0.5255, 0.9873, 0.9151, 0.8068, 0.5255, 0.9873, 0.9151, 0.8068, 0.5255,\n",
            "         0.9873, 0.9151, 0.8068]])\n"
          ]
        }
      ]
    },
    {
      "cell_type": "code",
      "source": [
        "#Matrix Multiplication\n",
        "\n",
        "shape=(2,4,)\n",
        "tensor=torch.rand(shape)\n",
        "print(tensor)\n",
        "z1 = tensor * tensor\n",
        "print(z1)"
      ],
      "metadata": {
        "colab": {
          "base_uri": "https://localhost:8080/"
        },
        "id": "225l2-r9Bi2y",
        "outputId": "ab673978-770b-4b1b-ab9d-b34e3e095bef"
      },
      "execution_count": null,
      "outputs": [
        {
          "output_type": "stream",
          "name": "stdout",
          "text": [
            "tensor([[0.4832, 0.4021, 0.8927, 0.7925],\n",
            "        [0.3017, 0.0039, 0.3285, 0.4922]])\n",
            "tensor([[2.3353e-01, 1.6166e-01, 7.9694e-01, 6.2813e-01],\n",
            "        [9.1050e-02, 1.5586e-05, 1.0789e-01, 2.4225e-01]])\n"
          ]
        }
      ]
    },
    {
      "cell_type": "code",
      "source": [
        "agg = tensor.sum()\n",
        "agg_item = agg.item() #converting it to a numerical value\n",
        "print(agg_item, type(agg_item))"
      ],
      "metadata": {
        "colab": {
          "base_uri": "https://localhost:8080/"
        },
        "id": "A9gYabMjCp3f",
        "outputId": "96fe9ac6-ea7b-4df3-bb9b-5ce2e0342e87"
      },
      "execution_count": null,
      "outputs": [
        {
          "output_type": "stream",
          "name": "stdout",
          "text": [
            "3.6969313621520996 <class 'float'>\n"
          ]
        }
      ]
    },
    {
      "cell_type": "code",
      "source": [
        "#changing from tensor to numpy\n",
        "t = torch.ones(5)\n",
        "print(f\"t: {t}\")\n",
        "n = t.numpy()\n",
        "print(f\"n: {n}\")"
      ],
      "metadata": {
        "colab": {
          "base_uri": "https://localhost:8080/"
        },
        "id": "XJf6rhQNCp8z",
        "outputId": "2a98f2c4-06b2-4bc7-f0a5-ed410426f3f1"
      },
      "execution_count": null,
      "outputs": [
        {
          "output_type": "stream",
          "name": "stdout",
          "text": [
            "t: tensor([1., 1., 1., 1., 1.])\n",
            "n: [1. 1. 1. 1. 1.]\n"
          ]
        }
      ]
    },
    {
      "cell_type": "code",
      "source": [
        "#from numpy to tensor\n",
        "n=np.ones(5)\n",
        "tensor=torch.from_numpy(n)\n",
        "print(tensor)"
      ],
      "metadata": {
        "colab": {
          "base_uri": "https://localhost:8080/"
        },
        "id": "Q7MXN4kFDd5M",
        "outputId": "5c533f6a-349d-4b41-b763-33ca54376606"
      },
      "execution_count": null,
      "outputs": [
        {
          "output_type": "stream",
          "name": "stdout",
          "text": [
            "tensor([1., 1., 1., 1., 1.], dtype=torch.float64)\n"
          ]
        }
      ]
    },
    {
      "cell_type": "markdown",
      "source": [
        "## **Data Loaders and datasets**"
      ],
      "metadata": {
        "id": "1LMMrO9PFIW7"
      }
    },
    {
      "cell_type": "markdown",
      "source": [
        "torch.utils.data.Dataset => stores the samples and their corresponding labels\n",
        "\n",
        "\n",
        " torch.utils.data.DataLoader => wraps an iterable around the Dataset to enable easy access to the samples."
      ],
      "metadata": {
        "id": "zPBPtNNkFd4r"
      }
    },
    {
      "cell_type": "code",
      "source": [
        "import torch\n",
        "from torch.utils.data import Dataset\n",
        "from torchvision import datasets\n",
        "from torchvision.transforms import ToTensor\n",
        "import matplotlib.pyplot as plt\n",
        "\n",
        "#loading the training data\n",
        "training_data = datasets.FashionMNIST(\n",
        "    root=\"data\",\n",
        "    train=True,\n",
        "    download=True,\n",
        "    transform=ToTensor()\n",
        ")\n",
        "\n",
        "#loading the test data\n",
        "test_data = datasets.FashionMNIST(\n",
        "    root=\"data\",\n",
        "    train=False,\n",
        "    download=True,\n",
        "    transform=ToTensor()\n",
        ")"
      ],
      "metadata": {
        "id": "fvZQEItHFkKI"
      },
      "execution_count": null,
      "outputs": []
    },
    {
      "cell_type": "code",
      "source": [
        "image=training_data[6][0]\n",
        "print(image.size())\n",
        "image=training_data[10][0].view(28,28)\n",
        "print(image.size())\n",
        "img=np.array(image)\n",
        "plt.imshow(img,cmap='gray')"
      ],
      "metadata": {
        "colab": {
          "base_uri": "https://localhost:8080/",
          "height": 482
        },
        "id": "PBRIofHmL-ce",
        "outputId": "af11f59a-9862-4582-dcd0-5cfe67aa8807"
      },
      "execution_count": null,
      "outputs": [
        {
          "output_type": "stream",
          "name": "stdout",
          "text": [
            "torch.Size([1, 28, 28])\n",
            "torch.Size([28, 28])\n"
          ]
        },
        {
          "output_type": "execute_result",
          "data": {
            "text/plain": [
              "<matplotlib.image.AxesImage at 0x79d6999b6230>"
            ]
          },
          "metadata": {},
          "execution_count": 55
        },
        {
          "output_type": "display_data",
          "data": {
            "text/plain": [
              "<Figure size 640x480 with 1 Axes>"
            ],
            "image/png": "[encoded data removed]"
          },
          "metadata": {}
        }
      ]
    },
    {
      "cell_type": "code",
      "source": [
        "img,label=training_data[11]\n",
        "plt.imshow(img.squeeze(), cmap=\"gray\")"
      ],
      "metadata": {
        "colab": {
          "base_uri": "https://localhost:8080/",
          "height": 447
        },
        "id": "3cnElSnYNRFO",
        "outputId": "6581ee1b-b0ab-4fcd-a8c5-6e54f04a4b0d"
      },
      "execution_count": null,
      "outputs": [
        {
          "output_type": "execute_result",
          "data": {
            "text/plain": [
              "<matplotlib.image.AxesImage at 0x79d69be1cfd0>"
            ]
          },
          "metadata": {},
          "execution_count": 62
        },
        {
          "output_type": "display_data",
          "data": {
            "text/plain": [
              "<Figure size 640x480 with 1 Axes>"
            ],
            "image/png": "[encoded data removed]"
          },
          "metadata": {}
        }
      ]
    },
    {
      "cell_type": "code",
      "source": [
        "labels_map = {\n",
        "    0: \"T-Shirt\",\n",
        "    1: \"Trouser\",\n",
        "    2: \"Pullover\",\n",
        "    3: \"Dress\",\n",
        "    4: \"Coat\",\n",
        "    5: \"Sandal\",\n",
        "    6: \"Shirt\",\n",
        "    7: \"Sneaker\",\n",
        "    8: \"Bag\",\n",
        "    9: \"Ankle Boot\",\n",
        "}\n",
        "figure = plt.figure(figsize=(8, 8))\n",
        "cols, rows = 3, 3\n",
        "for i in range(1, cols * rows + 1):\n",
        "    sample_idx = torch.randint(len(training_data), size=(1,)).item()\n",
        "    img, label = training_data[sample_idx]\n",
        "    figure.add_subplot(rows, cols, i)\n",
        "    plt.title(labels_map[label])\n",
        "    plt.axis(\"off\")\n",
        "    plt.imshow(img.squeeze(), cmap=\"gray\")\n",
        "plt.show()"
      ],
      "metadata": {
        "colab": {
          "base_uri": "https://localhost:8080/",
          "height": 675
        },
        "id": "P_RlliZoGU3q",
        "outputId": "bc2d83e6-99b6-4d56-d319-579d0935b180"
      },
      "execution_count": null,
      "outputs": [
        {
          "output_type": "display_data",
          "data": {
            "text/plain": [
              "<Figure size 800x800 with 9 Axes>"
            ],
            "image/png": "[encoded data removed]"
          },
          "metadata": {}
        }
      ]
    },
    {
      "cell_type": "code",
      "source": [
        "import os\n",
        "import pandas as pd\n",
        "from torchvision.io import read_image\n",
        "\n",
        "class CustomImageDataset(Dataset):\n",
        "    def __init__(self, annotations_file, img_dir, transform=None, target_transform=None):\n",
        "        self.img_labels = pd.read_csv(annotations_file)\n",
        "        self.img_dir = img_dir\n",
        "        self.transform = transform\n",
        "        self.target_transform = target_transform\n",
        "\n",
        "    def __len__(self):\n",
        "        return len(self.img_labels)\n",
        "\n",
        "    def __getitem__(self, idx):\n",
        "        img_path = os.path.join(self.img_dir, self.img_labels.iloc[idx, 0])\n",
        "        image = read_image(img_path)\n",
        "        label = self.img_labels.iloc[idx, 1]\n",
        "        if self.transform:\n",
        "            image = self.transform(image)\n",
        "        if self.target_transform:\n",
        "            label = self.target_transform(label)\n",
        "        return image, label"
      ],
      "metadata": {
        "id": "AGRUjXU2M0l-"
      },
      "execution_count": null,
      "outputs": []
    },
    {
      "cell_type": "markdown",
      "source": [
        "### Data Loader"
      ],
      "metadata": {
        "id": "BB8czVq-RNe3"
      }
    },
    {
      "cell_type": "code",
      "source": [
        "from torch.utils.data import DataLoader\n",
        "\n",
        "train_dataloader = DataLoader(training_data, batch_size=64, shuffle=True)\n",
        "test_dataloader = DataLoader(test_data, batch_size=64, shuffle=True)"
      ],
      "metadata": {
        "id": "r5Pzm2-FRLbj"
      },
      "execution_count": null,
      "outputs": []
    },
    {
      "cell_type": "code",
      "source": [
        "# Display image and label.\n",
        "train_features, train_labels = next(iter(train_dataloader))\n",
        "print(f\"Feature batch shape: {train_features.size()}\")\n",
        "print(f\"Labels batch shape: {train_labels.size()}\")\n",
        "img = train_features[0].squeeze()\n",
        "label = train_labels[0]\n",
        "plt.imshow(img, cmap=\"gray\")\n",
        "plt.show()"
      ],
      "metadata": {
        "colab": {
          "base_uri": "https://localhost:8080/",
          "height": 465
        },
        "id": "9b-Gz2UiRiO3",
        "outputId": "547413e5-fc2f-46de-de1c-d9629d62811d"
      },
      "execution_count": null,
      "outputs": [
        {
          "output_type": "stream",
          "name": "stdout",
          "text": [
            "Feature batch shape: torch.Size([64, 1, 28, 28])\n",
            "Labels batch shape: torch.Size([64])\n"
          ]
        },
        {
          "output_type": "display_data",
          "data": {
            "text/plain": [
              "<Figure size 640x480 with 1 Axes>"
            ],
            "image/png": "[encoded data removed]"
          },
          "metadata": {}
        }
      ]
    },
    {
      "cell_type": "markdown",
      "source": [
        "## **Transforms**\n"
      ],
      "metadata": {
        "id": "TJ_BZE_pTlDS"
      }
    },
    {
      "cell_type": "markdown",
      "source": [
        "data does not come in suitable form.\n",
        "we need to convert that into suitable for training"
      ],
      "metadata": {
        "id": "5zg_1HYQTnqA"
      }
    },
    {
      "cell_type": "code",
      "source": [
        "import torch\n",
        "from torchvision import datasets\n",
        "from torchvision.transforms import ToTensor, Lambda\n",
        "\n",
        "ds = datasets.FashionMNIST(\n",
        "    root=\"data\",\n",
        "    train=True,\n",
        "    download=True,\n",
        "    transform=ToTensor(),\n",
        "    target_transform=Lambda(lambda y: torch.zeros(10, dtype=torch.float).scatter_(0, torch.tensor(y), value=1))\n",
        ")"
      ],
      "metadata": {
        "id": "bPL33M3HT3Dk"
      },
      "execution_count": null,
      "outputs": []
    },
    {
      "cell_type": "markdown",
      "source": [
        "## **Building the NN**"
      ],
      "metadata": {
        "id": "GbMomuRhkoai"
      }
    },
    {
      "cell_type": "code",
      "source": [
        "import os\n",
        "import torch\n",
        "from torch import nn #building blocks needed to build the NN\n",
        "from torch.utils.data import DataLoader\n",
        "from torchvision import datasets, transforms"
      ],
      "metadata": {
        "id": "XZqTjukHlPs4"
      },
      "execution_count": null,
      "outputs": []
    },
    {
      "cell_type": "code",
      "source": [
        "class NeuralNetwork(nn.Module): #subclass of the nn.Module\n",
        "    def __init__(self): #defining the NN\n",
        "        super().__init__() #calling parent's constructor\n",
        "        self.flatten = nn.Flatten() #flatten layer before sending to the linear layers\n",
        "        self.linear_relu_stack = nn.Sequential( #three linear layers with ReLU activations\n",
        "            nn.Linear(28*28, 512), #(input,output)\n",
        "            nn.ReLU(),\n",
        "            nn.Linear(512, 512),\n",
        "            nn.ReLU(),\n",
        "            nn.Linear(512, 10),\n",
        "        )\n",
        "\n",
        "    def forward(self, x): #defines the forward pass of the NN\n",
        "        x = self.flatten(x) #flatten the input tensor\n",
        "        logits = self.linear_relu_stack(x) #pass the input through linear stack and store output in logits\n",
        "        return logits"
      ],
      "metadata": {
        "id": "yp1PusSslGQf"
      },
      "execution_count": null,
      "outputs": []
    },
    {
      "cell_type": "code",
      "source": [
        "#appling NN on the input tensor X\n",
        "model = NeuralNetwork()\n",
        "X = torch.rand(1, 28, 28) #create random tensor X with dimensions (1, 28, 28)\n",
        "# 1 => batch size\n",
        "# 28, 28 is height and width\n",
        "# print(X)\n",
        "logits = model(X) #pass the N through the model\n",
        "#logits are raw scores produced by the last layer of your neural network before applying a softmax function\n",
        "pred_probab = nn.Softmax(dim=1)(logits)\n",
        "# apply the softmax function along dimension 1 to convert the logits into probabilities\n",
        "#This step is common in classification problems to get a probability distribution over the classes.\n",
        "y_pred = pred_probab.argmax(1) #find the highest\n",
        "print(f\"Predicted class: {y_pred}\")"
      ],
      "metadata": {
        "id": "WnyOeXu5nyO4"
      },
      "execution_count": null,
      "outputs": []
    },
    {
      "cell_type": "code",
      "source": [
        "input_image=torch.rand(3,28,28)\n",
        "flatten = nn.Flatten() #a layer in PyTorch that is used to flatten the input tensor.\n",
        "flat_image = flatten(input_image) #flatten the image\n",
        "print(flat_image.size())"
      ],
      "metadata": {
        "id": "FLXwmX5YYLrq"
      },
      "execution_count": null,
      "outputs": []
    },
    {
      "cell_type": "code",
      "source": [
        "layer1 = nn.Linear(in_features=28*28, out_features=20)\n",
        "hidden1 = layer1(flat_image)\n",
        "print(hidden1.size())"
      ],
      "metadata": {
        "id": "qISMvoOYgAUu"
      },
      "execution_count": null,
      "outputs": []
    },
    {
      "cell_type": "markdown",
      "source": [
        "**ReLU:**\n",
        "applied to introduce nonlinearity(here we are adding it inbetween the layers)"
      ],
      "metadata": {
        "id": "-WwhmwiRgXaS"
      }
    },
    {
      "cell_type": "markdown",
      "source": [
        "nn.Sequential is an ordered container of modules."
      ],
      "metadata": {
        "id": "vjMeH_Qmg6XN"
      }
    },
    {
      "cell_type": "markdown",
      "source": [
        "**nn.Softmax**\n",
        "The last linear layer of the neural network returns logits - raw values in [-infty, infty] - which are passed to the nn.Softmax module. The logits are scaled to values [0, 1] representing the model’s predicted probabilities for each class. dim parameter indicates the dimension along which the values must sum to 1."
      ],
      "metadata": {
        "id": "ELHnY2t_g7et"
      }
    },
    {
      "cell_type": "markdown",
      "source": [
        "## Autograd\n",
        "supports automatic computation of gradient for any computational graph"
      ],
      "metadata": {
        "id": "9YSXbz1Gldi2"
      }
    },
    {
      "cell_type": "code",
      "source": [
        "import torch\n",
        "\n",
        "x = torch.ones(5)  # input tensor\n",
        "y = torch.zeros(3)  # expected output\n",
        "w = torch.randn(5, 3, requires_grad=True) #parameter\n",
        "b = torch.randn(3, requires_grad=True)  #parameter\n",
        "z = torch.matmul(x, w)+b\n",
        "loss = torch.nn.functional.binary_cross_entropy_with_logits(z, y)\n",
        "print(loss)"
      ],
      "metadata": {
        "colab": {
          "base_uri": "https://localhost:8080/"
        },
        "id": "nCowF6WKFBg2",
        "outputId": "6c0d85fa-d5cd-47e7-9873-8aaa2b742258"
      },
      "execution_count": null,
      "outputs": [
        {
          "output_type": "stream",
          "name": "stdout",
          "text": [
            "tensor(1.3760, grad_fn=<BinaryCrossEntropyWithLogitsBackward0>)\n"
          ]
        }
      ]
    },
    {
      "cell_type": "code",
      "source": [
        "print(f\"Gradient function for z = {z.grad_fn}\")\n",
        "print(f\"Gradient function for loss = {loss.grad_fn}\")"
      ],
      "metadata": {
        "colab": {
          "base_uri": "https://localhost:8080/"
        },
        "id": "EbKbfsL0GJJr",
        "outputId": "7d7f1795-123e-4565-a36d-ca8d920f57fd"
      },
      "execution_count": null,
      "outputs": [
        {
          "output_type": "stream",
          "name": "stdout",
          "text": [
            "Gradient function for z = <AddBackward0 object at 0x7db075d66080>\n",
            "Gradient function for loss = <BinaryCrossEntropyWithLogitsBackward0 object at 0x7db075d661d0>\n"
          ]
        }
      ]
    },
    {
      "cell_type": "code",
      "source": [
        "loss.backward()\n",
        "print(w.grad)\n",
        "print(b.grad)"
      ],
      "metadata": {
        "colab": {
          "base_uri": "https://localhost:8080/"
        },
        "id": "LSGF_woDGRcm",
        "outputId": "50402b55-0257-4e97-bb97-7a4d8f3b4d4e"
      },
      "execution_count": null,
      "outputs": [
        {
          "output_type": "stream",
          "name": "stdout",
          "text": [
            "tensor([[0.0479, 0.2402, 0.1811, 0.1340],\n",
            "        [0.0479, 0.2402, 0.1811, 0.1340],\n",
            "        [0.0479, 0.2402, 0.1811, 0.1340],\n",
            "        [0.0479, 0.2402, 0.1811, 0.1340],\n",
            "        [0.0479, 0.2402, 0.1811, 0.1340]])\n",
            "tensor([0.0479, 0.2402, 0.1811, 0.1340])\n"
          ]
        }
      ]
    },
    {
      "cell_type": "markdown",
      "source": [
        "## Optimising the model"
      ],
      "metadata": {
        "id": "tWmGT8miHUna"
      }
    },
    {
      "cell_type": "code",
      "source": [
        "import torch\n",
        "from torch import nn\n",
        "from torch.utils.data import DataLoader\n",
        "from torchvision import datasets\n",
        "from torchvision.transforms import ToTensor\n",
        "\n",
        "training_data = datasets.FashionMNIST(\n",
        "    root=\"data\",\n",
        "    train=True,\n",
        "    download=True,\n",
        "    transform=ToTensor()\n",
        ")\n",
        "\n",
        "test_data = datasets.FashionMNIST(\n",
        "    root=\"data\",\n",
        "    train=False,\n",
        "    download=True,\n",
        "    transform=ToTensor()\n",
        ")\n",
        "\n",
        "train_dataloader = DataLoader(training_data, batch_size=64)\n",
        "test_dataloader = DataLoader(test_data, batch_size=64)\n",
        "\n",
        "class NeuralNetwork(nn.Module):\n",
        "    def __init__(self):\n",
        "        super().__init__()\n",
        "        self.flatten = nn.Flatten()\n",
        "        self.linear_relu_stack = nn.Sequential(\n",
        "            nn.Linear(28*28, 64),\n",
        "            nn.ReLU(),\n",
        "            nn.Linear(64, 128),\n",
        "            nn.ReLU(),\n",
        "            nn.Linear(128, 10),\n",
        "        )\n",
        "\n",
        "    def forward(self, x):\n",
        "        x = self.flatten(x)\n",
        "        logits = self.linear_relu_stack(x)\n",
        "        return logits\n",
        "\n",
        "model = NeuralNetwork()"
      ],
      "metadata": {
        "id": "Ni9WeMfsHTga"
      },
      "execution_count": 10,
      "outputs": []
    },
    {
      "cell_type": "markdown",
      "source": [
        "\n",
        "Hyperparameters are adjustable parameters that let you control the model optimization process. Different hyperparameter values can impact model training and convergence rates (read more about hyperparameter tuning)\n",
        "\n",
        "We define the following hyperparameters for training:\n",
        "Number of Epochs - the number times to iterate over the dataset\n",
        "\n",
        "Batch Size - the number of data samples propagated through the network before the parameters are updated\n",
        "\n",
        "Learning Rate - how much to update models parameters at each batch/epoch. Smaller values yield slow learning speed, while large values may result in unpredictable behavior during training."
      ],
      "metadata": {
        "id": "vyoPvRFWHrwo"
      }
    },
    {
      "cell_type": "code",
      "source": [
        "def train_loop(dataloader, model, loss_fn, optimizer):\n",
        "    size = len(dataloader.dataset)\n",
        "    # Set the model to training mode - important for batch normalization and dropout layers\n",
        "    # Unnecessary in this situation but added for best practices\n",
        "    model.train()\n",
        "    for batch, (X, y) in enumerate(dataloader):\n",
        "        # Compute prediction and loss\n",
        "        pred = model(X)\n",
        "        loss = loss_fn(pred, y)\n",
        "\n",
        "        # Backpropagation\n",
        "        loss.backward()\n",
        "        optimizer.step()\n",
        "        optimizer.zero_grad()\n",
        "\n",
        "        if batch % 100 == 0:\n",
        "            loss, current = loss.item(), (batch + 1) * len(X)\n",
        "            print(f\"loss: {loss:>7f}  [{current:>5d}/{size:>5d}]\")\n",
        "\n",
        "\n",
        "def test_loop(dataloader, model, loss_fn):\n",
        "    # Set the model to evaluation mode - important for batch normalization and dropout layers\n",
        "    # Unnecessary in this situation but added for best practices\n",
        "    model.eval()\n",
        "    size = len(dataloader.dataset)\n",
        "    num_batches = len(dataloader)\n",
        "    test_loss, correct = 0, 0\n",
        "\n",
        "    # Evaluating the model with torch.no_grad() ensures that no gradients are computed during test mode\n",
        "    # also serves to reduce unnecessary gradient computations and memory usage for tensors with requires_grad=True\n",
        "    with torch.no_grad():\n",
        "        for X, y in dataloader:\n",
        "            pred = model(X)\n",
        "            test_loss += loss_fn(pred, y).item()\n",
        "            correct += (pred.argmax(1) == y).type(torch.float).sum().item()\n",
        "\n",
        "    test_loss /= num_batches\n",
        "    correct /= size\n",
        "    print(f\"Test Error: \\n Accuracy: {(100*correct):>0.1f}%, Avg loss: {test_loss:>8f} \\n\")"
      ],
      "metadata": {
        "id": "zMkxGn-OHtDd"
      },
      "execution_count": 11,
      "outputs": []
    },
    {
      "cell_type": "code",
      "source": [
        "learning_rate = 1e-3\n",
        "batch_size = 64\n",
        "epochs = 5\n",
        "\n",
        "loss_fn = nn.CrossEntropyLoss()\n",
        "optimizer = torch.optim.SGD(model.parameters(), lr=learning_rate)\n",
        "\n",
        "for t in range(epochs):\n",
        "    print(f\"Epoch {t+1}\\n-------------------------------\")\n",
        "    train_loop(train_dataloader, model, loss_fn, optimizer)\n",
        "    test_loop(test_dataloader, model, loss_fn)\n",
        "print(\"Done!\")"
      ],
      "metadata": {
        "colab": {
          "base_uri": "https://localhost:8080/"
        },
        "id": "wZpeoo4wJWP-",
        "outputId": "63e3293e-8973-4ae0-a7d2-b9a7f04d062e"
      },
      "execution_count": 12,
      "outputs": [
        {
          "output_type": "stream",
          "name": "stdout",
          "text": [
            "Epoch 1\n",
            "-------------------------------\n",
            "loss: 2.292182  [   64/60000]\n",
            "loss: 2.293286  [ 6464/60000]\n",
            "loss: 2.276263  [12864/60000]\n",
            "loss: 2.282337  [19264/60000]\n",
            "loss: 2.277666  [25664/60000]\n",
            "loss: 2.256054  [32064/60000]\n",
            "loss: 2.249079  [38464/60000]\n",
            "loss: 2.230057  [44864/60000]\n",
            "loss: 2.233457  [51264/60000]\n",
            "loss: 2.215891  [57664/60000]\n",
            "Test Error: \n",
            " Accuracy: 36.1%, Avg loss: 2.217155 \n",
            "\n",
            "Epoch 2\n",
            "-------------------------------\n",
            "loss: 2.213931  [   64/60000]\n",
            "loss: 2.220671  [ 6464/60000]\n",
            "loss: 2.179869  [12864/60000]\n",
            "loss: 2.194118  [19264/60000]\n",
            "loss: 2.176397  [25664/60000]\n",
            "loss: 2.126757  [32064/60000]\n",
            "loss: 2.134613  [38464/60000]\n",
            "loss: 2.082542  [44864/60000]\n",
            "loss: 2.084018  [51264/60000]\n",
            "loss: 2.042267  [57664/60000]\n",
            "Test Error: \n",
            " Accuracy: 48.6%, Avg loss: 2.038506 \n",
            "\n",
            "Epoch 3\n",
            "-------------------------------\n",
            "loss: 2.041941  [   64/60000]\n",
            "loss: 2.040229  [ 6464/60000]\n",
            "loss: 1.941063  [12864/60000]\n",
            "loss: 1.978456  [19264/60000]\n",
            "loss: 1.932307  [25664/60000]\n",
            "loss: 1.841312  [32064/60000]\n",
            "loss: 1.863262  [38464/60000]\n",
            "loss: 1.763605  [44864/60000]\n",
            "loss: 1.764189  [51264/60000]\n",
            "loss: 1.695399  [57664/60000]\n",
            "Test Error: \n",
            " Accuracy: 50.7%, Avg loss: 1.696900 \n",
            "\n",
            "Epoch 4\n",
            "-------------------------------\n",
            "loss: 1.723108  [   64/60000]\n",
            "loss: 1.707417  [ 6464/60000]\n",
            "loss: 1.554407  [12864/60000]\n",
            "loss: 1.631298  [19264/60000]\n",
            "loss: 1.560992  [25664/60000]\n",
            "loss: 1.496965  [32064/60000]\n",
            "loss: 1.523085  [38464/60000]\n",
            "loss: 1.430700  [44864/60000]\n",
            "loss: 1.462118  [51264/60000]\n",
            "loss: 1.376094  [57664/60000]\n",
            "Test Error: \n",
            " Accuracy: 60.4%, Avg loss: 1.395149 \n",
            "\n",
            "Epoch 5\n",
            "-------------------------------\n",
            "loss: 1.453038  [   64/60000]\n",
            "loss: 1.440481  [ 6464/60000]\n",
            "loss: 1.276802  [12864/60000]\n",
            "loss: 1.380815  [19264/60000]\n",
            "loss: 1.291586  [25664/60000]\n",
            "loss: 1.284577  [32064/60000]\n",
            "loss: 1.308835  [38464/60000]\n",
            "loss: 1.236305  [44864/60000]\n",
            "loss: 1.273270  [51264/60000]\n",
            "loss: 1.198923  [57664/60000]\n",
            "Test Error: \n",
            " Accuracy: 60.8%, Avg loss: 1.212879 \n",
            "\n",
            "Done!\n"
          ]
        }
      ]
    }
  ]
}