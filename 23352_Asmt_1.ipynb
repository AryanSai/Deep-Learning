{
  "nbformat": 4,
  "nbformat_minor": 0,
  "metadata": {
    "colab": {
      "provenance": [],
      "include_colab_link": true
    },
    "kernelspec": {
      "name": "python3",
      "display_name": "Python 3"
    },
    "language_info": {
      "name": "python"
    }
  },
  "cells": [
    {
      "cell_type": "markdown",
      "metadata": {
        "id": "view-in-github",
        "colab_type": "text"
      },
      "source": [
        "<a href=\"https://colab.research.google.com/github/AryanSai/Deep-Learning/blob/main/23352_Asmt_1.ipynb\" target=\"_parent\"><img src=\"https://colab.research.google.com/assets/colab-badge.svg\" alt=\"Open In Colab\"/></a>"
      ]
    },
    {
      "cell_type": "code",
      "execution_count": 1,
      "metadata": {
        "id": "_-luTdfsLrRa"
      },
      "outputs": [],
      "source": [
        "import torch\n",
        "from torch import nn #building blocks needed to build the NN\n",
        "from torch.utils.data import DataLoader\n",
        "from torchvision import datasets\n",
        "from torchvision.transforms import ToTensor"
      ]
    },
    {
      "cell_type": "code",
      "source": [
        "#loading the training data\n",
        "training_data=datasets.FashionMNIST(\n",
        "    root=\"data\",\n",
        "    train=True,\n",
        "    download=True,\n",
        "    transform=ToTensor()\n",
        ")\n",
        "#loading the test data\n",
        "test_data=datasets.FashionMNIST(\n",
        "    root=\"data\",\n",
        "    train=False,\n",
        "    download=True,\n",
        "    transform=ToTensor()\n",
        ")\n",
        "\n",
        "#wraping iterators around the datasets\n",
        "train_dataloader=DataLoader(training_data,batch_size=32)\n",
        "test_dataloader=DataLoader(test_data,batch_size=32)"
      ],
      "metadata": {
        "id": "7MfHeHxISVX0",
        "outputId": "269b96ca-2d8c-467d-96f7-88665f09d5db",
        "colab": {
          "base_uri": "https://localhost:8080/"
        }
      },
      "execution_count": 2,
      "outputs": [
        {
          "output_type": "stream",
          "name": "stdout",
          "text": [
            "Downloading http://fashion-mnist.s3-website.eu-central-1.amazonaws.com/train-images-idx3-ubyte.gz\n",
            "Downloading http://fashion-mnist.s3-website.eu-central-1.amazonaws.com/train-images-idx3-ubyte.gz to data/FashionMNIST/raw/train-images-idx3-ubyte.gz\n"
          ]
        },
        {
          "output_type": "stream",
          "name": "stderr",
          "text": [
            "100%|██████████| 26421880/26421880 [00:01<00:00, 13482239.97it/s]\n"
          ]
        },
        {
          "output_type": "stream",
          "name": "stdout",
          "text": [
            "Extracting data/FashionMNIST/raw/train-images-idx3-ubyte.gz to data/FashionMNIST/raw\n",
            "\n",
            "Downloading http://fashion-mnist.s3-website.eu-central-1.amazonaws.com/train-labels-idx1-ubyte.gz\n",
            "Downloading http://fashion-mnist.s3-website.eu-central-1.amazonaws.com/train-labels-idx1-ubyte.gz to data/FashionMNIST/raw/train-labels-idx1-ubyte.gz\n"
          ]
        },
        {
          "output_type": "stream",
          "name": "stderr",
          "text": [
            "100%|██████████| 29515/29515 [00:00<00:00, 228467.49it/s]\n"
          ]
        },
        {
          "output_type": "stream",
          "name": "stdout",
          "text": [
            "Extracting data/FashionMNIST/raw/train-labels-idx1-ubyte.gz to data/FashionMNIST/raw\n",
            "\n",
            "Downloading http://fashion-mnist.s3-website.eu-central-1.amazonaws.com/t10k-images-idx3-ubyte.gz\n",
            "Downloading http://fashion-mnist.s3-website.eu-central-1.amazonaws.com/t10k-images-idx3-ubyte.gz to data/FashionMNIST/raw/t10k-images-idx3-ubyte.gz\n"
          ]
        },
        {
          "output_type": "stream",
          "name": "stderr",
          "text": [
            "100%|██████████| 4422102/4422102 [00:01<00:00, 4214982.87it/s]\n"
          ]
        },
        {
          "output_type": "stream",
          "name": "stdout",
          "text": [
            "Extracting data/FashionMNIST/raw/t10k-images-idx3-ubyte.gz to data/FashionMNIST/raw\n",
            "\n",
            "Downloading http://fashion-mnist.s3-website.eu-central-1.amazonaws.com/t10k-labels-idx1-ubyte.gz\n",
            "Downloading http://fashion-mnist.s3-website.eu-central-1.amazonaws.com/t10k-labels-idx1-ubyte.gz to data/FashionMNIST/raw/t10k-labels-idx1-ubyte.gz\n"
          ]
        },
        {
          "output_type": "stream",
          "name": "stderr",
          "text": [
            "100%|██████████| 5148/5148 [00:00<00:00, 3674030.46it/s]"
          ]
        },
        {
          "output_type": "stream",
          "name": "stdout",
          "text": [
            "Extracting data/FashionMNIST/raw/t10k-labels-idx1-ubyte.gz to data/FashionMNIST/raw\n",
            "\n"
          ]
        },
        {
          "output_type": "stream",
          "name": "stderr",
          "text": [
            "\n"
          ]
        }
      ]
    },
    {
      "cell_type": "code",
      "source": [
        "class NeuralNetwork(nn.Module): #subclass of the nn.Module\n",
        "    def __init__(self): #constructor\n",
        "\n",
        "      super().__init__() #calling the parent's constructor\n",
        "\n",
        "      self.flatten = nn.Flatten() #flatten layer before sending to the linear layers\n",
        "      #defining the three layers with ReLu activations\n",
        "\n",
        "      self.linear_relu_stack = nn.Sequential(\n",
        "          nn.Linear(28*28,64), #(input,output) ;64 hidden nodes in layer 1\n",
        "          nn.ReLU(),\n",
        "          nn.Linear(64,128), #128 hidden nodes in layer 1\n",
        "          nn.ReLU(),\n",
        "          nn.Linear(128,10),\n",
        "    )\n",
        "\n",
        "    def forward(self,x): #the forward pass of the NN\n",
        "      x=self.flatten(x) #flatten the input tensor\n",
        "      logits=self.linear_relu_stack(x) #pass the input through linear stack and store output in logits\n",
        "      return logits"
      ],
      "metadata": {
        "id": "urUA5G8YciAQ"
      },
      "execution_count": 3,
      "outputs": []
    },
    {
      "cell_type": "code",
      "source": [
        "def train_loop(dataloader, model, loss_fn, optimizer):\n",
        "      size = len(dataloader.dataset) #get the size of the dataset\n",
        "      model.train()\n",
        "      for batch, (X,y) in enumerate(dataloader):\n",
        "        #computing the prediction and loss\n",
        "        pred=model(X)\n",
        "        loss=loss_fn(pred,y)\n",
        "        #back propagation\n",
        "        loss.backward() # Compute gradients\n",
        "        optimizer.step() # Update weights\n",
        "        optimizer.zero_grad() # Zero out gradients for next iteration\n",
        "\n",
        "        if batch%1000 == 0:\n",
        "          loss, current = loss.item(), (batch+1)*len(X)\n",
        "          print(f\"loss: {loss:>7f}  [{current:>5d}/{size:>5d}]\")\n",
        "\n",
        "def test_loop(dataloader, model, loss_fn):\n",
        "    model.eval() #set the model to evaluation mode\n",
        "\n",
        "    size = len(dataloader.dataset)\n",
        "    num_batches = len(dataloader) #total number of batches in the data loader\n",
        "\n",
        "    test_loss=0 #total loss\n",
        "    correct = 0 #number of correct prediction\n",
        "\n",
        "    with torch.no_grad(): #disables gradient computation\n",
        "        for X, y in dataloader:\n",
        "            pred = model(X) #forward pass to obtain predictions from the model\n",
        "            test_loss += loss_fn(pred, y).item() #find loss and accumulate it\n",
        "            correct += (pred.argmax(1) == y).type(torch.float).sum().item() #count correct prediction\n",
        "    test_loss /= num_batches #average test loss over all batches\n",
        "    correct /= size #accuracy\n",
        "    print(f\"Test Error: \\n Accuracy: {(100*correct):>0.1f}%, Avg loss: {test_loss:>8f} \\n\")\n"
      ],
      "metadata": {
        "id": "AAkdW5Un30Uh"
      },
      "execution_count": 4,
      "outputs": []
    },
    {
      "cell_type": "code",
      "source": [
        "\n",
        "model = NeuralNetwork() #creating an instance of the nn\n",
        "\n",
        "learning_rate = 1e-2 #rate at which the parameters are updated\n",
        "batch_size = 64 #no. of samples processed before updating the parameters\n",
        "epochs = 30 #no. of times the whole dataset is iterated over\n",
        "\n",
        "loss_fn = nn.CrossEntropyLoss() #loss function(cross-entropy)\n",
        "\n",
        "optimizer = torch.optim.SGD(model.parameters(), lr=learning_rate) #stochastic gradient descent\n",
        "\n",
        "for t in range(epochs):\n",
        "    print(f\"Epoch {t+1}\\n-------------------------------\")\n",
        "    train_loop(train_dataloader, model, loss_fn, optimizer)\n",
        "    test_loop(test_dataloader, model, loss_fn)\n",
        "print(\"Done!\")\n"
      ],
      "metadata": {
        "colab": {
          "base_uri": "https://localhost:8080/"
        },
        "id": "_WCAoAkIseE0",
        "outputId": "42e77857-840b-4ead-db4a-f05fadd63b67"
      },
      "execution_count": 5,
      "outputs": [
        {
          "output_type": "stream",
          "name": "stdout",
          "text": [
            "Epoch 1\n",
            "-------------------------------\n",
            "loss: 2.309417  [   32/60000]\n",
            "loss: 0.746327  [32032/60000]\n",
            "Test Error: \n",
            " Accuracy: 76.3%, Avg loss: 0.662994 \n",
            "\n",
            "Epoch 2\n",
            "-------------------------------\n",
            "loss: 0.562872  [   32/60000]\n",
            "loss: 0.633786  [32032/60000]\n",
            "Test Error: \n",
            " Accuracy: 80.3%, Avg loss: 0.552814 \n",
            "\n",
            "Epoch 3\n",
            "-------------------------------\n",
            "loss: 0.438812  [   32/60000]\n",
            "loss: 0.559128  [32032/60000]\n",
            "Test Error: \n",
            " Accuracy: 81.7%, Avg loss: 0.513358 \n",
            "\n",
            "Epoch 4\n",
            "-------------------------------\n",
            "loss: 0.378524  [   32/60000]\n",
            "loss: 0.531105  [32032/60000]\n",
            "Test Error: \n",
            " Accuracy: 82.6%, Avg loss: 0.488615 \n",
            "\n",
            "Epoch 5\n",
            "-------------------------------\n",
            "loss: 0.334169  [   32/60000]\n",
            "loss: 0.527381  [32032/60000]\n",
            "Test Error: \n",
            " Accuracy: 83.2%, Avg loss: 0.469021 \n",
            "\n",
            "Epoch 6\n",
            "-------------------------------\n",
            "loss: 0.309080  [   32/60000]\n",
            "loss: 0.526881  [32032/60000]\n",
            "Test Error: \n",
            " Accuracy: 83.6%, Avg loss: 0.453826 \n",
            "\n",
            "Epoch 7\n",
            "-------------------------------\n",
            "loss: 0.292836  [   32/60000]\n",
            "loss: 0.531590  [32032/60000]\n",
            "Test Error: \n",
            " Accuracy: 84.1%, Avg loss: 0.440829 \n",
            "\n",
            "Epoch 8\n",
            "-------------------------------\n",
            "loss: 0.284361  [   32/60000]\n",
            "loss: 0.525048  [32032/60000]\n",
            "Test Error: \n",
            " Accuracy: 84.6%, Avg loss: 0.429615 \n",
            "\n",
            "Epoch 9\n",
            "-------------------------------\n",
            "loss: 0.280059  [   32/60000]\n",
            "loss: 0.517723  [32032/60000]\n",
            "Test Error: \n",
            " Accuracy: 84.9%, Avg loss: 0.421101 \n",
            "\n",
            "Epoch 10\n",
            "-------------------------------\n",
            "loss: 0.277272  [   32/60000]\n",
            "loss: 0.518278  [32032/60000]\n",
            "Test Error: \n",
            " Accuracy: 85.3%, Avg loss: 0.411852 \n",
            "\n",
            "Epoch 11\n",
            "-------------------------------\n",
            "loss: 0.272674  [   32/60000]\n",
            "loss: 0.513924  [32032/60000]\n",
            "Test Error: \n",
            " Accuracy: 85.6%, Avg loss: 0.404739 \n",
            "\n",
            "Epoch 12\n",
            "-------------------------------\n",
            "loss: 0.269884  [   32/60000]\n",
            "loss: 0.513081  [32032/60000]\n",
            "Test Error: \n",
            " Accuracy: 85.8%, Avg loss: 0.398007 \n",
            "\n",
            "Epoch 13\n",
            "-------------------------------\n",
            "loss: 0.262615  [   32/60000]\n",
            "loss: 0.513998  [32032/60000]\n",
            "Test Error: \n",
            " Accuracy: 86.1%, Avg loss: 0.391034 \n",
            "\n",
            "Epoch 14\n",
            "-------------------------------\n",
            "loss: 0.255142  [   32/60000]\n",
            "loss: 0.511837  [32032/60000]\n",
            "Test Error: \n",
            " Accuracy: 86.2%, Avg loss: 0.385704 \n",
            "\n",
            "Epoch 15\n",
            "-------------------------------\n",
            "loss: 0.254325  [   32/60000]\n",
            "loss: 0.510440  [32032/60000]\n",
            "Test Error: \n",
            " Accuracy: 86.4%, Avg loss: 0.381684 \n",
            "\n",
            "Epoch 16\n",
            "-------------------------------\n",
            "loss: 0.250790  [   32/60000]\n",
            "loss: 0.507151  [32032/60000]\n",
            "Test Error: \n",
            " Accuracy: 86.4%, Avg loss: 0.377850 \n",
            "\n",
            "Epoch 17\n",
            "-------------------------------\n",
            "loss: 0.248470  [   32/60000]\n",
            "loss: 0.503623  [32032/60000]\n",
            "Test Error: \n",
            " Accuracy: 86.6%, Avg loss: 0.373732 \n",
            "\n",
            "Epoch 18\n",
            "-------------------------------\n",
            "loss: 0.245470  [   32/60000]\n",
            "loss: 0.494109  [32032/60000]\n",
            "Test Error: \n",
            " Accuracy: 86.8%, Avg loss: 0.370365 \n",
            "\n",
            "Epoch 19\n",
            "-------------------------------\n",
            "loss: 0.243480  [   32/60000]\n",
            "loss: 0.486188  [32032/60000]\n",
            "Test Error: \n",
            " Accuracy: 87.0%, Avg loss: 0.367055 \n",
            "\n",
            "Epoch 20\n",
            "-------------------------------\n",
            "loss: 0.236202  [   32/60000]\n",
            "loss: 0.488682  [32032/60000]\n",
            "Test Error: \n",
            " Accuracy: 87.0%, Avg loss: 0.363629 \n",
            "\n",
            "Epoch 21\n",
            "-------------------------------\n",
            "loss: 0.234582  [   32/60000]\n",
            "loss: 0.488002  [32032/60000]\n",
            "Test Error: \n",
            " Accuracy: 87.1%, Avg loss: 0.361055 \n",
            "\n",
            "Epoch 22\n",
            "-------------------------------\n",
            "loss: 0.229663  [   32/60000]\n",
            "loss: 0.484860  [32032/60000]\n",
            "Test Error: \n",
            " Accuracy: 87.2%, Avg loss: 0.359082 \n",
            "\n",
            "Epoch 23\n",
            "-------------------------------\n",
            "loss: 0.229270  [   32/60000]\n",
            "loss: 0.481477  [32032/60000]\n",
            "Test Error: \n",
            " Accuracy: 87.3%, Avg loss: 0.356985 \n",
            "\n",
            "Epoch 24\n",
            "-------------------------------\n",
            "loss: 0.226316  [   32/60000]\n",
            "loss: 0.475472  [32032/60000]\n",
            "Test Error: \n",
            " Accuracy: 87.3%, Avg loss: 0.356082 \n",
            "\n",
            "Epoch 25\n",
            "-------------------------------\n",
            "loss: 0.230969  [   32/60000]\n",
            "loss: 0.479665  [32032/60000]\n",
            "Test Error: \n",
            " Accuracy: 87.4%, Avg loss: 0.353795 \n",
            "\n",
            "Epoch 26\n",
            "-------------------------------\n",
            "loss: 0.232129  [   32/60000]\n",
            "loss: 0.480292  [32032/60000]\n",
            "Test Error: \n",
            " Accuracy: 87.4%, Avg loss: 0.352739 \n",
            "\n",
            "Epoch 27\n",
            "-------------------------------\n",
            "loss: 0.229393  [   32/60000]\n",
            "loss: 0.475024  [32032/60000]\n",
            "Test Error: \n",
            " Accuracy: 87.4%, Avg loss: 0.350997 \n",
            "\n",
            "Epoch 28\n",
            "-------------------------------\n",
            "loss: 0.226210  [   32/60000]\n",
            "loss: 0.468594  [32032/60000]\n",
            "Test Error: \n",
            " Accuracy: 87.6%, Avg loss: 0.349381 \n",
            "\n",
            "Epoch 29\n",
            "-------------------------------\n",
            "loss: 0.221556  [   32/60000]\n",
            "loss: 0.464663  [32032/60000]\n",
            "Test Error: \n",
            " Accuracy: 87.7%, Avg loss: 0.347542 \n",
            "\n",
            "Epoch 30\n",
            "-------------------------------\n",
            "loss: 0.215379  [   32/60000]\n",
            "loss: 0.460971  [32032/60000]\n",
            "Test Error: \n",
            " Accuracy: 87.8%, Avg loss: 0.346922 \n",
            "\n",
            "Done!\n"
          ]
        }
      ]
    },
    {
      "cell_type": "markdown",
      "source": [
        "Epoch 29\n",
        "-------------------------------\n",
        "loss: 0.198498  [   32/60000]\n",
        "loss: 0.402522  [32032/60000]\n",
        "Test Error:\n",
        " Accuracy: 87.6%, Avg loss: 0.353605\n",
        "\n",
        "Epoch 30\n",
        "-------------------------------\n",
        "loss: 0.195382  [   32/60000]\n",
        "loss: 0.398971  [32032/60000]\n",
        "Test Error:\n",
        " Accuracy: 87.7%, Avg loss: 0.352234\n",
        "\n",
        "Done!"
      ],
      "metadata": {
        "id": "HbZ3wnj0DIwI"
      }
    },
    {
      "cell_type": "code",
      "source": [],
      "metadata": {
        "id": "JZOdI5DhDKQa"
      },
      "execution_count": null,
      "outputs": []
    }
  ]
}