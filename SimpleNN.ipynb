{
 "cells": [
  {
   "cell_type": "markdown",
   "id": "8a805e4e",
   "metadata": {},
   "source": [
    "Shallow NN -> only one hidden layer\n",
    "Deep NN -> more than one hidden layer"
   ]
  },
  {
   "cell_type": "markdown",
   "id": "821ef535",
   "metadata": {},
   "source": [
    "torchvision package is for datasets"
   ]
  },
  {
   "cell_type": "code",
   "execution_count": 55,
   "id": "8200b64a",
   "metadata": {},
   "outputs": [],
   "source": [
    "import numpy as np"
   ]
  },
  {
   "cell_type": "code",
   "execution_count": 56,
   "id": "db11d37d",
   "metadata": {},
   "outputs": [],
   "source": [
    "import torch\n",
    "from torch import nn\n",
    "from torch.utils.data import DataLoader\n",
    "from torchvision import datasets\n",
    "from torchvision.transforms import ToTensor"
   ]
  },
  {
   "cell_type": "code",
   "execution_count": 57,
   "id": "8c92a35c",
   "metadata": {},
   "outputs": [],
   "source": [
    "training_data = datasets.FashionMNIST(\n",
    "    root=\"data\", # <--- this means \"save in a folder called 'data'\"\n",
    "    train=True,\n",
    "    download=True,\n",
    "    transform=ToTensor(),\n",
    ")\n",
    "test_data = datasets.FashionMNIST(\n",
    "    root=\"data\",\n",
    "    train=False,\n",
    "    download=True,\n",
    "    transform=ToTensor(),\n",
    ")\n",
    "\n",
    "#wrap data in dataloader\n",
    "train_dataloader =  DataLoader(training_data, batch_size=64)\n",
    "test_dataloader = DataLoader(test_data, batch_size=64)"
   ]
  },
  {
   "cell_type": "code",
   "execution_count": 58,
   "id": "8570720b",
   "metadata": {},
   "outputs": [
    {
     "name": "stdout",
     "output_type": "stream",
     "text": [
      "torch.Size([64, 1, 28, 28])\n",
      "torch.Size([1, 28, 28])\n",
      "9\n"
     ]
    }
   ],
   "source": [
    "images, labels = next(iter(train_dataloader))\n",
    "print(images.shape)\n",
    "\n",
    "image, label = training_data[0]\n",
    "# print(image)\n",
    "print(image.shape)\n",
    "print(label)"
   ]
  },
  {
   "cell_type": "markdown",
   "id": "3aad90bd",
   "metadata": {},
   "source": [
    "the 1 in [1,28,28] is the number of channels"
   ]
  },
  {
   "cell_type": "code",
   "execution_count": 59,
   "id": "b0fe099e",
   "metadata": {},
   "outputs": [
    {
     "data": {
      "image/png": "[encoded data removed]",
      "text/plain": [
       "<Figure size 640x480 with 1 Axes>"
      ]
     },
     "metadata": {},
     "output_type": "display_data"
    }
   ],
   "source": [
    "import matplotlib.pyplot as plt\n",
    "\n",
    "image, label = training_data[0]\n",
    "\n",
    "# Remove the channel dimension for plotting (1, 28, 28) → (28, 28)\n",
    "plt.imshow(image.squeeze(), cmap=\"gray\")\n",
    "plt.title(f\"Label: {label}\")\n",
    "plt.axis(\"off\")  \n",
    "plt.show()\n"
   ]
  },
  {
   "cell_type": "markdown",
   "id": "a109162f",
   "metadata": {},
   "source": [
    "## Simple Neural Network"
   ]
  },
  {
   "cell_type": "markdown",
   "id": "92e4d3fe",
   "metadata": {},
   "source": [
    "we will have to flatten the image and dense fully connected and the softmax in the end "
   ]
  },
  {
   "cell_type": "code",
   "execution_count": 60,
   "id": "233dccff",
   "metadata": {},
   "outputs": [],
   "source": [
    "class NeuralNetwork(nn.Module): #subclassing nn.Module\n",
    "    def __init__(self):\n",
    "        super().__init__()\n",
    "        self.flatten = nn.Flatten() #flattening the image\n",
    "        self.linear_stack = nn.Sequential(\n",
    "            nn.Linear(28*28, 10), #input layer\n",
    "            # nn.Linear(28*28, 128), #input layer\n",
    "            # nn.ReLU(),\n",
    "            # nn.Linear(128, 10), #second layer\n",
    "            nn.ReLU(),\n",
    "            nn.Softmax(dim=1), #hidden layer\n",
    "        )\n",
    "\n",
    "    def forward(self, x): #forward pass\n",
    "        x = self.flatten(x)\n",
    "        logits = self.linear_stack(x)\n",
    "        return logits\n"
   ]
  },
  {
   "cell_type": "code",
   "execution_count": 61,
   "id": "abd78e44",
   "metadata": {},
   "outputs": [],
   "source": [
    "def train(dataloader, model, loss_fn, optimizer):\n",
    "    size = len(dataloader.dataset)\n",
    "    model.train() #set model to training mode\n",
    "    for batch, (X,y) in enumerate(dataloader):\n",
    "        # compute prediction and loss\n",
    "        pred = model(X)\n",
    "        loss = loss_fn(pred, y)\n",
    "\n",
    "        # Backpropagation\n",
    "        loss.backward()\n",
    "        optimizer.step() #update weights\n",
    "        optimizer.zero_grad()\n",
    "\n",
    "        if batch % 100 == 0:\n",
    "            loss, current = loss.item(), batch * len(X)\n",
    "            print(f\"loss: {loss:>7f} [{current:>5d}/{size:>5d}]\")\n",
    "\n",
    "def test(dataloader, model, loss_fn):\n",
    "    size = len(dataloader.dataset)\n",
    "    num_batches = len(dataloader)\n",
    "    model.eval() #set model to evaluation mode\n",
    "    test_loss, correct = 0, 0\n",
    "    with torch.no_grad():\n",
    "        for X, y in dataloader:\n",
    "            pred = model(X)\n",
    "            test_loss += loss_fn(pred, y).item()\n",
    "            correct += (pred.argmax(1) == y).type(torch.float).sum().item()\n",
    "\n",
    "    test_loss /= num_batches\n",
    "    correct /= size\n",
    "    print(f\"Test Error: \\n Accuracy: {(100*correct):>0.1f}%, Avg loss: {test_loss:>8f} \\n\")\n"
   ]
  },
  {
   "cell_type": "code",
   "execution_count": 62,
   "id": "67dce77d",
   "metadata": {},
   "outputs": [
    {
     "name": "stdout",
     "output_type": "stream",
     "text": [
      "Epoch 1\n",
      "-------------------------------\n",
      "loss: 2.303067 [    0/60000]\n",
      "loss: 2.301851 [ 6400/60000]\n",
      "loss: 2.303126 [12800/60000]\n",
      "loss: 2.300195 [19200/60000]\n",
      "loss: 2.302433 [25600/60000]\n",
      "loss: 2.294687 [32000/60000]\n",
      "loss: 2.292063 [38400/60000]\n",
      "loss: 2.287810 [44800/60000]\n",
      "loss: 2.287885 [51200/60000]\n",
      "loss: 2.286772 [57600/60000]\n",
      "Test Error: \n",
      " Accuracy: 22.0%, Avg loss: 2.289911 \n",
      "\n",
      "Epoch 2\n",
      "-------------------------------\n",
      "loss: 2.283913 [    0/60000]\n",
      "loss: 2.293294 [ 6400/60000]\n",
      "loss: 2.286289 [12800/60000]\n",
      "loss: 2.288443 [19200/60000]\n",
      "loss: 2.298181 [25600/60000]\n",
      "loss: 2.269443 [32000/60000]\n",
      "loss: 2.268938 [38400/60000]\n",
      "loss: 2.257067 [44800/60000]\n",
      "loss: 2.261197 [51200/60000]\n",
      "loss: 2.260507 [57600/60000]\n",
      "Test Error: \n",
      " Accuracy: 25.2%, Avg loss: 2.268952 \n",
      "\n",
      "Epoch 3\n",
      "-------------------------------\n",
      "loss: 2.253229 [    0/60000]\n",
      "loss: 2.279170 [ 6400/60000]\n",
      "loss: 2.259092 [12800/60000]\n",
      "loss: 2.268875 [19200/60000]\n",
      "loss: 2.289553 [25600/60000]\n",
      "loss: 2.236125 [32000/60000]\n",
      "loss: 2.235352 [38400/60000]\n",
      "loss: 2.218098 [44800/60000]\n",
      "loss: 2.217438 [51200/60000]\n",
      "loss: 2.225041 [57600/60000]\n",
      "Test Error: \n",
      " Accuracy: 28.5%, Avg loss: 2.239563 \n",
      "\n",
      "Epoch 4\n",
      "-------------------------------\n",
      "loss: 2.207258 [    0/60000]\n",
      "loss: 2.247818 [ 6400/60000]\n",
      "loss: 2.215249 [12800/60000]\n",
      "loss: 2.238768 [19200/60000]\n",
      "loss: 2.277021 [25600/60000]\n",
      "loss: 2.196560 [32000/60000]\n",
      "loss: 2.195355 [38400/60000]\n",
      "loss: 2.174821 [44800/60000]\n",
      "loss: 2.168438 [51200/60000]\n",
      "loss: 2.190181 [57600/60000]\n",
      "Test Error: \n",
      " Accuracy: 29.2%, Avg loss: 2.210498 \n",
      "\n",
      "Epoch 5\n",
      "-------------------------------\n",
      "loss: 2.161914 [    0/60000]\n",
      "loss: 2.218092 [ 6400/60000]\n",
      "loss: 2.178364 [12800/60000]\n",
      "loss: 2.213581 [19200/60000]\n",
      "loss: 2.267825 [25600/60000]\n",
      "loss: 2.167149 [32000/60000]\n",
      "loss: 2.165646 [38400/60000]\n",
      "loss: 2.145031 [44800/60000]\n",
      "loss: 2.140139 [51200/60000]\n",
      "loss: 2.167836 [57600/60000]\n",
      "Test Error: \n",
      " Accuracy: 29.3%, Avg loss: 2.192748 \n",
      "\n",
      "Done!\n"
     ]
    }
   ],
   "source": [
    "model =  NeuralNetwork()\n",
    "\n",
    "learning_rate = 1e-3\n",
    "epochs = 5\n",
    "loss_fn = nn.CrossEntropyLoss() #loss function\n",
    "optimizer = torch.optim.SGD(model.parameters(), lr=learning_rate) #stochastic gradient descent\n",
    "\n",
    "for t in range(epochs):\n",
    "    print(f\"Epoch {t+1}\\n-------------------------------\")\n",
    "    train(train_dataloader, model, loss_fn, optimizer)\n",
    "    test(test_dataloader, model, loss_fn)\n",
    "print(\"Done!\")"
   ]
  },
  {
   "cell_type": "markdown",
   "id": "54ee7f4e",
   "metadata": {},
   "source": [
    "Test Error: \n",
    " Accuracy: 53.6%, Avg loss: 2.079146 \n",
    "\n",
    " "
   ]
  },
  {
   "cell_type": "code",
   "execution_count": null,
   "id": "6b97ca56",
   "metadata": {},
   "outputs": [],
   "source": []
  }
 ],
 "metadata": {
  "kernelspec": {
   "display_name": "myenv",
   "language": "python",
   "name": "python3"
  },
  "language_info": {
   "codemirror_mode": {
    "name": "ipython",
    "version": 3
   },
   "file_extension": ".py",
   "mimetype": "text/x-python",
   "name": "python",
   "nbconvert_exporter": "python",
   "pygments_lexer": "ipython3",
   "version": "3.13.3"
  }
 },
 "nbformat": 4,
 "nbformat_minor": 5
}
