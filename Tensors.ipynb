{
  "nbformat": 4,
  "nbformat_minor": 0,
  "metadata": {
    "colab": {
      "provenance": [],
      "authorship_tag": "ABX9TyO0av942ZSJJnvwwdgbdWmw",
      "include_colab_link": true
    },
    "kernelspec": {
      "name": "python3",
      "display_name": "Python 3"
    },
    "language_info": {
      "name": "python"
    }
  },
  "cells": [
    {
      "cell_type": "markdown",
      "metadata": {
        "id": "view-in-github",
        "colab_type": "text"
      },
      "source": [
        "<a href=\"https://colab.research.google.com/github/AryanSai/Deep-Learning/blob/main/Tensors.ipynb\" target=\"_parent\"><img src=\"https://colab.research.google.com/assets/colab-badge.svg\" alt=\"Open In Colab\"/></a>"
      ]
    },
    {
      "cell_type": "code",
      "execution_count": null,
      "metadata": {
        "id": "eABr5jIM7Uqi"
      },
      "outputs": [],
      "source": [
        "import torch\n",
        "\n",
        "# Create a 4-dimensional tensor with shape (2, 3, 4, 5)\n",
        "tensor_4d = torch.randn(4, 3, 2, 2)\n",
        "\n",
        "# Print the tensor and its shape\n",
        "print(\"4-dimensional tensor:\")\n",
        "print(tensor_4d)\n",
        "print(\"Shape:\", tensor_4d.shape)\n"
      ]
    },
    {
      "cell_type": "code",
      "source": [
        "tensor1 = torch.tensor([[1, 2], [3, 4]])\n",
        "print(tensor1.shape)\n",
        "tensor2 = torch.tensor([[5, 6]])\n",
        "print(tensor2.shape)\n",
        "\n",
        "result = torch.cat((tensor1, tensor2), dim=0)\n",
        "print(result)\n",
        "result = torch.cat((tensor1, tensor2), dim=1)\n",
        "print(result)"
      ],
      "metadata": {
        "id": "IKxktmht7YuH"
      },
      "execution_count": null,
      "outputs": []
    },
    {
      "cell_type": "code",
      "source": [
        "\n",
        "# Example tensors\n",
        "tensor1 = torch.tensor([[1, 2], [3, 4]])\n",
        "print(\"Tensor 1 shape:\", tensor1.shape)\n",
        "\n",
        "tensor2 = torch.tensor([[5, 6], [7, 8]])\n",
        "print(\"Tensor 2 shape:\", tensor2.shape)\n",
        "\n",
        "# Reshaping tensors to have a third dimension\n",
        "tensor1 = tensor1.unsqueeze(0)\n",
        "\n",
        "\n",
        "tensor2 = tensor2.unsqueeze(0)\n",
        "\n",
        "print(\"Tensor 1 shape after unsqueeze:\", tensor1.shape)\n",
        "print(\"Tensor 2 shape after unsqueeze:\", tensor2.shape)\n",
        "\n",
        "# Concatenating along dimension 2\n",
        "result = torch.cat((tensor1, tensor2), dim=2)\n",
        "print(\"Resulting tensor shape:\", result.shape)\n",
        "print(result)\n"
      ],
      "metadata": {
        "id": "F5-3-vrB7cSv"
      },
      "execution_count": null,
      "outputs": []
    },
    {
      "cell_type": "code",
      "source": [
        "\n",
        "\n",
        "# Example tensors\n",
        "tensor1 = torch.tensor([[[1, 2,1,1], [3, 4,1,2]]\n",
        "                      , [[7, 8,8,7], [9,10,4,7]]])\n",
        "print(\"Tensor 1 shape:\", tensor1.shape)\n",
        "\n",
        "\n",
        "tensor2 = torch.tensor([[[9, 10], [11, 12]]\n",
        "                      , [[13, 14], [15, 16]]])\n",
        "print(\"Tensor 2 shape:\", tensor2.shape)\n",
        "\n",
        "# # Concatenating along dimension 2\n",
        "# result = torch.cat((tensor1, tensor2), dim=0)\n",
        "# print(\"Resulting tensor shape:\", result.shape)\n",
        "# print(result)\n",
        "\n",
        "# result = torch.cat((tensor1, tensor2), dim=1)\n",
        "# print(\"Resulting tensor shape:\", result.shape)\n",
        "# print(result)\n",
        "\n",
        "result = torch.cat((tensor1, tensor2), dim=2)\n",
        "print(\"Resulting tensor shape:\", result.shape)\n",
        "print(result)"
      ],
      "metadata": {
        "id": "6_BKDily7eLY"
      },
      "execution_count": null,
      "outputs": []
    },
    {
      "cell_type": "code",
      "source": [
        "# Example tensors\n",
        "x = torch.tensor([[[1, 2, 3, 4],\n",
        "                    [5, 6, 7, 8],\n",
        "                    [9, 10, 11, 12]],\n",
        "\n",
        "                    [[13, 14, 15, 16],\n",
        "                    [17, 18, 19, 20],\n",
        "                    [21, 22, 23, 24]]])\n",
        "\n",
        "y = torch.tensor([[[25, 26, 27, 28],\n",
        "[29, 30, 31, 32],\n",
        "[33, 34, 35, 36]]])\n",
        "\n",
        "print(x.shape)\n",
        "print(y.shape)\n",
        "\n",
        "# Concatenate along the first dimension (depth)\n",
        "z = torch.cat((x, y), dim=0)\n",
        "print(z.shape)\n",
        "print(z)\n",
        "# Output: torch.Size([3, 3, 4])\n",
        "\n",
        "# Concatenate along the second dimension (rows)\n",
        "w = torch.cat((x, y), dim=1)\n",
        "print(w.shape)\n",
        "# Output: torch.Size([2, 4, 4])\n",
        "\n",
        "# Concatenate along the third dimension (columns)\n",
        "v = torch.cat((x, y), dim=2)\n",
        "print(v.shape)\n",
        "# Output: torch.Size([2, 3, 8])"
      ],
      "metadata": {
        "id": "RSWQ3T5x7hce"
      },
      "execution_count": null,
      "outputs": []
    },
    {
      "cell_type": "code",
      "source": [
        "import torch\n",
        "\n",
        "print(torch.tensor([0.485, 0.456, 0.406]))\n",
        "x=torch.tensor([0.485, 0.456, 0.406]).view(3, 1, 1)\n",
        "print(x)"
      ],
      "metadata": {
        "id": "3tfC_4YB7kVm"
      },
      "execution_count": null,
      "outputs": []
    }
  ]
}