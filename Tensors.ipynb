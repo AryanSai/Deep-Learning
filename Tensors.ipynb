{
  "nbformat": 4,
  "nbformat_minor": 0,
  "metadata": {
    "colab": {
      "provenance": [],
      "include_colab_link": true
    },
    "kernelspec": {
      "name": "python3",
      "display_name": "Python 3"
    },
    "language_info": {
      "name": "python"
    }
  },
  "cells": [
    {
      "cell_type": "markdown",
      "metadata": {
        "id": "view-in-github",
        "colab_type": "text"
      },
      "source": [
        "<a href=\"https://colab.research.google.com/github/AryanSai/Deep-Learning/blob/main/DataCamp_Experiment.ipynb\" target=\"_parent\"><img src=\"https://colab.research.google.com/assets/colab-badge.svg\" alt=\"Open In Colab\"/></a>"
      ]
    },
    {
      "cell_type": "markdown",
      "source": [
        "##Tensors"
      ],
      "metadata": {
        "id": "t9UPEiMf-25n"
      }
    },
    {
      "cell_type": "code",
      "execution_count": 1,
      "metadata": {
        "id": "JtMTYeLN6ugr"
      },
      "outputs": [],
      "source": [
        "import torch"
      ]
    },
    {
      "cell_type": "code",
      "source": [
        "lis=[[[1,2,3],[1,2,3],[1,2,3],[1,2,3],[1,2,3]],[[1,2,3],[1,2,3],[1,2,3],[1,2,3],[1,2,3]]]\n",
        "tenso = torch.tensor(lis)"
      ],
      "metadata": {
        "id": "58m9qzsi6wG-"
      },
      "execution_count": 2,
      "outputs": []
    },
    {
      "cell_type": "code",
      "source": [
        "print(tenso.shape)\n",
        "print(tenso.device)"
      ],
      "metadata": {
        "colab": {
          "base_uri": "https://localhost:8080/"
        },
        "id": "SpqvDkAO63bN",
        "outputId": "34d85df8-6167-4fcd-bde8-7b25c44d3dfb"
      },
      "execution_count": 3,
      "outputs": [
        {
          "output_type": "stream",
          "name": "stdout",
          "text": [
            "torch.Size([2, 5, 3])\n",
            "cpu\n"
          ]
        }
      ]
    },
    {
      "cell_type": "code",
      "source": [
        "import numpy as np\n",
        "nparray = np.array(lis)\n",
        "print(nparray.shape)"
      ],
      "metadata": {
        "colab": {
          "base_uri": "https://localhost:8080/"
        },
        "id": "CUyBZ0-Y7Ayt",
        "outputId": "a5ec4273-2f40-41a5-ffe0-ce0254d189c9"
      },
      "execution_count": 4,
      "outputs": [
        {
          "output_type": "stream",
          "name": "stdout",
          "text": [
            "(2, 5, 3)\n"
          ]
        }
      ]
    },
    {
      "cell_type": "code",
      "source": [
        "tens1=torch.from_numpy(nparray)"
      ],
      "metadata": {
        "id": "0c55D6fy7cA0"
      },
      "execution_count": 5,
      "outputs": []
    },
    {
      "cell_type": "code",
      "source": [
        "print(tens1)"
      ],
      "metadata": {
        "colab": {
          "base_uri": "https://localhost:8080/"
        },
        "id": "OEteD_xG9LQP",
        "outputId": "266018e1-25d0-4c9e-9a67-e72ba11f9e11"
      },
      "execution_count": 6,
      "outputs": [
        {
          "output_type": "stream",
          "name": "stdout",
          "text": [
            "tensor([[[1, 2, 3],\n",
            "         [1, 2, 3],\n",
            "         [1, 2, 3],\n",
            "         [1, 2, 3],\n",
            "         [1, 2, 3]],\n",
            "\n",
            "        [[1, 2, 3],\n",
            "         [1, 2, 3],\n",
            "         [1, 2, 3],\n",
            "         [1, 2, 3],\n",
            "         [1, 2, 3]]])\n"
          ]
        }
      ]
    },
    {
      "cell_type": "code",
      "source": [
        "l=[1,2,3]\n",
        "t=torch.tensor(l)\n",
        "print(t.shape)\n",
        "print(t)"
      ],
      "metadata": {
        "colab": {
          "base_uri": "https://localhost:8080/"
        },
        "id": "BqAwf7vU9RIq",
        "outputId": "5a0c4967-096e-4716-bc43-84272550b517"
      },
      "execution_count": 7,
      "outputs": [
        {
          "output_type": "stream",
          "name": "stdout",
          "text": [
            "torch.Size([3])\n",
            "tensor([1, 2, 3])\n"
          ]
        }
      ]
    },
    {
      "cell_type": "code",
      "source": [
        "l=[[1,2,3]]\n",
        "t=torch.tensor(l)\n",
        "print(t.shape)\n",
        "print(t)"
      ],
      "metadata": {
        "colab": {
          "base_uri": "https://localhost:8080/"
        },
        "id": "igqVlCmF-HZh",
        "outputId": "22d586b8-43bb-42fe-f6fc-8b190893a64f"
      },
      "execution_count": 8,
      "outputs": [
        {
          "output_type": "stream",
          "name": "stdout",
          "text": [
            "torch.Size([1, 3])\n",
            "tensor([[1, 2, 3]])\n"
          ]
        }
      ]
    },
    {
      "cell_type": "code",
      "source": [],
      "metadata": {
        "id": "P4Rt1nOM-RkT"
      },
      "execution_count": 8,
      "outputs": []
    },
    {
      "cell_type": "markdown",
      "source": [
        "##Neural Networks"
      ],
      "metadata": {
        "id": "VcVas3Bk-6vF"
      }
    },
    {
      "cell_type": "code",
      "source": [
        "import torch.nn as nn\n",
        "\n",
        "input = torch.tensor([[1.1,2.0,3.0],[1.1,2.0,3.0]]) #should be floats\n",
        "\n",
        "print(input)\n",
        "\n",
        "linear_layer = nn.Linear(in_features=3, out_features=2)\n",
        "\n",
        "output=linear_layer(input)\n",
        "\n",
        "print(output)"
      ],
      "metadata": {
        "colab": {
          "base_uri": "https://localhost:8080/"
        },
        "id": "hPy4tbRg--EL",
        "outputId": "922f895b-6faf-4888-e7e2-88aa6cba2400"
      },
      "execution_count": 9,
      "outputs": [
        {
          "output_type": "stream",
          "name": "stdout",
          "text": [
            "tensor([[1.1000, 2.0000, 3.0000],\n",
            "        [1.1000, 2.0000, 3.0000]])\n",
            "tensor([[ 0.1061, -1.1227],\n",
            "        [ 0.1061, -1.1227]], grad_fn=<AddmmBackward0>)\n"
          ]
        }
      ]
    },
    {
      "cell_type": "code",
      "source": [
        "print(linear_layer.weight)\n",
        "print(linear_layer.bias)"
      ],
      "metadata": {
        "colab": {
          "base_uri": "https://localhost:8080/"
        },
        "id": "AeLRD7TH_e0q",
        "outputId": "0ab9c59f-d16f-4c25-a458-74bac67ab389"
      },
      "execution_count": 10,
      "outputs": [
        {
          "output_type": "stream",
          "name": "stdout",
          "text": [
            "Parameter containing:\n",
            "tensor([[ 0.1771,  0.4442, -0.2755],\n",
            "        [-0.2658, -0.0509, -0.1373]], requires_grad=True)\n",
            "Parameter containing:\n",
            "tensor([-0.1507, -0.3167], requires_grad=True)\n"
          ]
        }
      ]
    },
    {
      "cell_type": "code",
      "source": [
        "model = nn.Sequential(\n",
        "    nn.Linear(3,2),\n",
        "    nn.Linear(2,1)\n",
        ")\n",
        "\n",
        "output=model(input)\n",
        "print(output)"
      ],
      "metadata": {
        "colab": {
          "base_uri": "https://localhost:8080/"
        },
        "id": "it78zbSQ_8aQ",
        "outputId": "abb59dac-e91d-4a52-ae7f-76eb9df35e31"
      },
      "execution_count": 11,
      "outputs": [
        {
          "output_type": "stream",
          "name": "stdout",
          "text": [
            "tensor([[0.7934],\n",
            "        [0.7934]], grad_fn=<AddmmBackward0>)\n"
          ]
        }
      ]
    },
    {
      "cell_type": "markdown",
      "source": [
        "##Activation Functions"
      ],
      "metadata": {
        "id": "UFG2pHBwhGEU"
      }
    },
    {
      "cell_type": "code",
      "source": [
        "model = nn.Sequential(\n",
        "    nn.Linear(3,2),\n",
        "    nn.Linear(2,1),\n",
        "    nn.Sigmoid()\n",
        ")\n",
        "\n",
        "output=model(input)\n",
        "print(output)"
      ],
      "metadata": {
        "colab": {
          "base_uri": "https://localhost:8080/"
        },
        "id": "lM5EMlmweGuv",
        "outputId": "dfe1f6d1-ecf4-4ce4-cb80-d1fbb5b57384"
      },
      "execution_count": 12,
      "outputs": [
        {
          "output_type": "stream",
          "name": "stdout",
          "text": [
            "tensor([[0.4894],\n",
            "        [0.4894]], grad_fn=<SigmoidBackward0>)\n"
          ]
        }
      ]
    },
    {
      "cell_type": "code",
      "source": [
        "model = nn.Sequential(\n",
        "    nn.Linear(3,2),\n",
        "    nn.Softmax()\n",
        ")\n",
        "\n",
        "output=model(input)\n",
        "print(output)"
      ],
      "metadata": {
        "colab": {
          "base_uri": "https://localhost:8080/"
        },
        "id": "S1hgEtWXhMnV",
        "outputId": "928e3614-583f-4549-fd3e-fb854426bc77"
      },
      "execution_count": 13,
      "outputs": [
        {
          "output_type": "stream",
          "name": "stdout",
          "text": [
            "tensor([[0.8761, 0.1239],\n",
            "        [0.8761, 0.1239]], grad_fn=<SoftmaxBackward0>)\n"
          ]
        },
        {
          "output_type": "stream",
          "name": "stderr",
          "text": [
            "/usr/local/lib/python3.10/dist-packages/torch/nn/modules/module.py:1736: UserWarning: Implicit dimension choice for softmax has been deprecated. Change the call to include dim=X as an argument.\n",
            "  return self._call_impl(*args, **kwargs)\n"
          ]
        }
      ]
    },
    {
      "cell_type": "code",
      "source": [
        "m = nn.Softmax(dim=0)\n",
        "\n",
        "# If dim=0: Softmax is applied across rows. Each column's elements will sum to 1.\n",
        "\n",
        "input = torch.tensor([[1.0, 2.0, 3.0], [1.0, 2.0, 3.0]])\n",
        "\n",
        "output = m(input)\n",
        "print(output)\n",
        "\n",
        "        # sum =1\n",
        "#tensor([[0.5000, 0.5000, 0.5000],\n",
        "        # [0.5000, 0.5000, 0.5000]])"
      ],
      "metadata": {
        "colab": {
          "base_uri": "https://localhost:8080/"
        },
        "id": "ebA-zTInhUv9",
        "outputId": "571c25dd-69ad-40b8-defb-92f819005360"
      },
      "execution_count": 14,
      "outputs": [
        {
          "output_type": "stream",
          "name": "stdout",
          "text": [
            "tensor([[0.5000, 0.5000, 0.5000],\n",
            "        [0.5000, 0.5000, 0.5000]])\n"
          ]
        }
      ]
    },
    {
      "cell_type": "code",
      "source": [
        "m = nn.Softmax(dim=1)\n",
        "\n",
        "# If dim=1: Softmax is applied across columns. Each row's elements will sum to 1.\n",
        "\n",
        "input = torch.tensor([[1.0, 2.0, 3.0], [1.0, 2.0, 3.0]])\n",
        "\n",
        "output = m(input)\n",
        "print(output)\n",
        "\n",
        "# tensor([[0.0900, 0.2447, 0.6652],    # sum =1\n",
        "        # [0.0900, 0.2447, 0.6652]])"
      ],
      "metadata": {
        "colab": {
          "base_uri": "https://localhost:8080/"
        },
        "id": "nzY6Y9FWioix",
        "outputId": "95edfbb1-fa2f-4743-b1da-252f6121fb1e"
      },
      "execution_count": 15,
      "outputs": [
        {
          "output_type": "stream",
          "name": "stdout",
          "text": [
            "tensor([[0.0900, 0.2447, 0.6652],\n",
            "        [0.0900, 0.2447, 0.6652]])\n"
          ]
        }
      ]
    },
    {
      "cell_type": "code",
      "source": [
        "m = nn.Softmax(dim=-1)\n",
        "\n",
        "input = torch.tensor([[1.0, 2.0, 3.0], [1.0, 2.0, 3.0]])\n",
        "\n",
        "output = m(input)\n",
        "print(output)"
      ],
      "metadata": {
        "colab": {
          "base_uri": "https://localhost:8080/"
        },
        "id": "qBI6eB8Eh_bn",
        "outputId": "8032a216-0825-45ad-b435-a65880545974"
      },
      "execution_count": 16,
      "outputs": [
        {
          "output_type": "stream",
          "name": "stdout",
          "text": [
            "tensor([[0.0900, 0.2447, 0.6652],\n",
            "        [0.0900, 0.2447, 0.6652]])\n"
          ]
        }
      ]
    },
    {
      "cell_type": "code",
      "source": [
        "print(input.shape)"
      ],
      "metadata": {
        "colab": {
          "base_uri": "https://localhost:8080/"
        },
        "id": "K0OYysibiFuX",
        "outputId": "5d8fd1d5-3b39-466c-f042-a2815d80e973"
      },
      "execution_count": 17,
      "outputs": [
        {
          "output_type": "stream",
          "name": "stdout",
          "text": [
            "torch.Size([2, 3])\n"
          ]
        }
      ]
    },
    {
      "cell_type": "code",
      "source": [
        "input = torch.tensor([[[1.0, 2.0, 3.0], [1.0, 2.0, 3.0]],[[1.0, 2.0, 3.0], [1.0, 2.0, 3.0]]])\n",
        "\n",
        "print(\"Shape: \", input.shape)\n",
        "\n",
        "m = nn.Softmax(dim=0)\n",
        "output = m(input)\n",
        "print(output)\n",
        "\n",
        "m = nn.Softmax(dim=1)\n",
        "output = m(input)\n",
        "print(output)\n",
        "\n",
        "m = nn.Softmax(dim=2)\n",
        "output = m(input)\n",
        "print(output)\n",
        "\n",
        "m = nn.Softmax(dim=-1)\n",
        "output = m(input)\n",
        "print(output)"
      ],
      "metadata": {
        "colab": {
          "base_uri": "https://localhost:8080/"
        },
        "id": "IFkzNFq0i9GA",
        "outputId": "a9a78cb1-8826-43e5-ba93-e02c5f6b7b31"
      },
      "execution_count": 18,
      "outputs": [
        {
          "output_type": "stream",
          "name": "stdout",
          "text": [
            "Shape:  torch.Size([2, 2, 3])\n",
            "tensor([[[0.5000, 0.5000, 0.5000],\n",
            "         [0.5000, 0.5000, 0.5000]],\n",
            "\n",
            "        [[0.5000, 0.5000, 0.5000],\n",
            "         [0.5000, 0.5000, 0.5000]]])\n",
            "tensor([[[0.5000, 0.5000, 0.5000],\n",
            "         [0.5000, 0.5000, 0.5000]],\n",
            "\n",
            "        [[0.5000, 0.5000, 0.5000],\n",
            "         [0.5000, 0.5000, 0.5000]]])\n",
            "tensor([[[0.0900, 0.2447, 0.6652],\n",
            "         [0.0900, 0.2447, 0.6652]],\n",
            "\n",
            "        [[0.0900, 0.2447, 0.6652],\n",
            "         [0.0900, 0.2447, 0.6652]]])\n",
            "tensor([[[0.0900, 0.2447, 0.6652],\n",
            "         [0.0900, 0.2447, 0.6652]],\n",
            "\n",
            "        [[0.0900, 0.2447, 0.6652],\n",
            "         [0.0900, 0.2447, 0.6652]]])\n"
          ]
        }
      ]
    },
    {
      "cell_type": "code",
      "source": [
        "input=torch.randn(2,3,4)\n",
        "print(input)"
      ],
      "metadata": {
        "id": "cmKbjPAHjXes",
        "colab": {
          "base_uri": "https://localhost:8080/"
        },
        "outputId": "93fa8647-4eb0-4a09-8cab-c08ffdeb7945"
      },
      "execution_count": 19,
      "outputs": [
        {
          "output_type": "stream",
          "name": "stdout",
          "text": [
            "tensor([[[ 1.3024,  1.6707, -0.3700, -0.2300],\n",
            "         [ 1.0639, -0.1652, -1.9012,  0.2143],\n",
            "         [ 0.4107,  0.8822, -0.5475,  0.6556]],\n",
            "\n",
            "        [[-0.9559,  1.1679, -0.8316,  1.3750],\n",
            "         [ 0.0210,  0.4599,  0.1337, -0.2866],\n",
            "         [-1.2827,  1.5552, -0.6034, -1.2019]]])\n"
          ]
        }
      ]
    },
    {
      "cell_type": "code",
      "source": [
        "print(torch.tensor(1))\n",
        "print(torch.tensor(0))"
      ],
      "metadata": {
        "colab": {
          "base_uri": "https://localhost:8080/"
        },
        "id": "rpITll0R1oIi",
        "outputId": "d40d10c6-fc6b-4562-96dd-6dc15f3ec0f4"
      },
      "execution_count": 21,
      "outputs": [
        {
          "output_type": "stream",
          "name": "stdout",
          "text": [
            "tensor(1)\n",
            "tensor(0)\n"
          ]
        }
      ]
    },
    {
      "cell_type": "code",
      "source": [
        "import torch.nn.functional as F\n",
        "\n",
        "print(\n",
        "F.one_hot(torch.tensor(0),num_classes=3),\n",
        "F.one_hot(torch.tensor(1),num_classes=3),\n",
        "F.one_hot(torch.tensor(2),num_classes=3))"
      ],
      "metadata": {
        "colab": {
          "base_uri": "https://localhost:8080/"
        },
        "id": "JPtIA5yM5Upx",
        "outputId": "09debcb6-f8e7-4f16-cf72-568d632e9dc2"
      },
      "execution_count": 25,
      "outputs": [
        {
          "output_type": "stream",
          "name": "stdout",
          "text": [
            "tensor([1, 0, 0]) tensor([0, 1, 0]) tensor([0, 0, 1])\n"
          ]
        }
      ]
    },
    {
      "cell_type": "markdown",
      "source": [
        "##Cross Entropy Loss"
      ],
      "metadata": {
        "id": "763jJ_rX551s"
      }
    },
    {
      "cell_type": "code",
      "source": [
        "from torch.nn import CrossEntropyLoss\n",
        "\n",
        "scores = torch.rand(2,2)\n",
        "print(scores)\n",
        "\n",
        "one=F.one_hot(torch.tensor(0),num_classes=2)\n",
        "print(one)\n",
        "\n",
        "loss = CrossEntropyLoss()\n",
        "\n",
        "loss(scores,one)"
      ],
      "metadata": {
        "colab": {
          "base_uri": "https://localhost:8080/"
        },
        "id": "uQtHBL1z5mjv",
        "outputId": "ea84a54d-6d49-4b8f-a297-4ea187831913"
      },
      "execution_count": 33,
      "outputs": [
        {
          "output_type": "stream",
          "name": "stdout",
          "text": [
            "tensor([[0.1115, 0.9939],\n",
            "        [0.6521, 0.2267]])\n",
            "tensor([1, 0])\n"
          ]
        },
        {
          "output_type": "execute_result",
          "data": {
            "text/plain": [
              "tensor(0.4246)"
            ]
          },
          "metadata": {},
          "execution_count": 33
        }
      ]
    },
    {
      "cell_type": "code",
      "source": [],
      "metadata": {
        "id": "Sh8wgcnl6q_6"
      },
      "execution_count": null,
      "outputs": []
    }
  ]
}